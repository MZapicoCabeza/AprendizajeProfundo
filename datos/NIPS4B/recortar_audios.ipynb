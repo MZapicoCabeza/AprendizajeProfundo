{
 "cells": [
  {
   "cell_type": "code",
   "execution_count": 5,
   "metadata": {},
   "outputs": [
    {
     "ename": "FileNotFoundError",
     "evalue": "[Errno 2] No such file or directory: 'ruta\\\\al\\\\archivo_de_audio.wav'",
     "output_type": "error",
     "traceback": [
      "\u001b[1;31m---------------------------------------------------------------------------\u001b[0m",
      "\u001b[1;31mFileNotFoundError\u001b[0m                         Traceback (most recent call last)",
      "\u001b[1;32mc:\\Users\\maria\\OneDrive\\Documentos\\AprendizajeProfundo\\datos\\NIPS4B\\recortar_audios.ipynb Cell 1\u001b[0m line \u001b[0;36m2\n\u001b[0;32m     <a href='vscode-notebook-cell:/c%3A/Users/maria/OneDrive/Documentos/AprendizajeProfundo/datos/NIPS4B/recortar_audios.ipynb#W0sZmlsZQ%3D%3D?line=20'>21</a>\u001b[0m start_time \u001b[39m=\u001b[39m \u001b[39m2.975056689\u001b[39m \u001b[39m# Tiempo de inicio en segundos\u001b[39;00m\n\u001b[0;32m     <a href='vscode-notebook-cell:/c%3A/Users/maria/OneDrive/Documentos/AprendizajeProfundo/datos/NIPS4B/recortar_audios.ipynb#W0sZmlsZQ%3D%3D?line=21'>22</a>\u001b[0m end_time \u001b[39m=\u001b[39m \u001b[39m3.172426304\u001b[39m    \u001b[39m# Tiempo de fin en segundos\u001b[39;00m\n\u001b[1;32m---> <a href='vscode-notebook-cell:/c%3A/Users/maria/OneDrive/Documentos/AprendizajeProfundo/datos/NIPS4B/recortar_audios.ipynb#W0sZmlsZQ%3D%3D?line=23'>24</a>\u001b[0m recortar_audio(input_path, output_path, start_time, end_time)\n",
      "\u001b[1;32mc:\\Users\\maria\\OneDrive\\Documentos\\AprendizajeProfundo\\datos\\NIPS4B\\recortar_audios.ipynb Cell 1\u001b[0m line \u001b[0;36m5\n\u001b[0;32m      <a href='vscode-notebook-cell:/c%3A/Users/maria/OneDrive/Documentos/AprendizajeProfundo/datos/NIPS4B/recortar_audios.ipynb#W0sZmlsZQ%3D%3D?line=2'>3</a>\u001b[0m \u001b[39mdef\u001b[39;00m \u001b[39mrecortar_audio\u001b[39m(input_path, output_path, start_time, end_time):\n\u001b[0;32m      <a href='vscode-notebook-cell:/c%3A/Users/maria/OneDrive/Documentos/AprendizajeProfundo/datos/NIPS4B/recortar_audios.ipynb#W0sZmlsZQ%3D%3D?line=3'>4</a>\u001b[0m     \u001b[39m# Cargar el archivo de audio\u001b[39;00m\n\u001b[1;32m----> <a href='vscode-notebook-cell:/c%3A/Users/maria/OneDrive/Documentos/AprendizajeProfundo/datos/NIPS4B/recortar_audios.ipynb#W0sZmlsZQ%3D%3D?line=4'>5</a>\u001b[0m     audio \u001b[39m=\u001b[39m AudioSegment\u001b[39m.\u001b[39;49mfrom_file(input_path)\n\u001b[0;32m      <a href='vscode-notebook-cell:/c%3A/Users/maria/OneDrive/Documentos/AprendizajeProfundo/datos/NIPS4B/recortar_audios.ipynb#W0sZmlsZQ%3D%3D?line=6'>7</a>\u001b[0m     \u001b[39m# Calcular los tiempos en milisegundos\u001b[39;00m\n\u001b[0;32m      <a href='vscode-notebook-cell:/c%3A/Users/maria/OneDrive/Documentos/AprendizajeProfundo/datos/NIPS4B/recortar_audios.ipynb#W0sZmlsZQ%3D%3D?line=7'>8</a>\u001b[0m     start_time_ms \u001b[39m=\u001b[39m \u001b[39mint\u001b[39m(start_time \u001b[39m*\u001b[39m \u001b[39m1000\u001b[39m)\n",
      "File \u001b[1;32mc:\\Users\\maria\\anaconda3\\Lib\\site-packages\\pydub\\audio_segment.py:651\u001b[0m, in \u001b[0;36mAudioSegment.from_file\u001b[1;34m(cls, file, format, codec, parameters, start_second, duration, **kwargs)\u001b[0m\n\u001b[0;32m    649\u001b[0m \u001b[39mexcept\u001b[39;00m \u001b[39mTypeError\u001b[39;00m:\n\u001b[0;32m    650\u001b[0m     filename \u001b[39m=\u001b[39m \u001b[39mNone\u001b[39;00m\n\u001b[1;32m--> 651\u001b[0m file, close_file \u001b[39m=\u001b[39m _fd_or_path_or_tempfile(file, \u001b[39m'\u001b[39;49m\u001b[39mrb\u001b[39;49m\u001b[39m'\u001b[39;49m, tempfile\u001b[39m=\u001b[39;49m\u001b[39mFalse\u001b[39;49;00m)\n\u001b[0;32m    653\u001b[0m \u001b[39mif\u001b[39;00m \u001b[39mformat\u001b[39m:\n\u001b[0;32m    654\u001b[0m     \u001b[39mformat\u001b[39m \u001b[39m=\u001b[39m \u001b[39mformat\u001b[39m\u001b[39m.\u001b[39mlower()\n",
      "File \u001b[1;32mc:\\Users\\maria\\anaconda3\\Lib\\site-packages\\pydub\\utils.py:60\u001b[0m, in \u001b[0;36m_fd_or_path_or_tempfile\u001b[1;34m(fd, mode, tempfile)\u001b[0m\n\u001b[0;32m     57\u001b[0m     close_fd \u001b[39m=\u001b[39m \u001b[39mTrue\u001b[39;00m\n\u001b[0;32m     59\u001b[0m \u001b[39mif\u001b[39;00m \u001b[39misinstance\u001b[39m(fd, basestring):\n\u001b[1;32m---> 60\u001b[0m     fd \u001b[39m=\u001b[39m \u001b[39mopen\u001b[39;49m(fd, mode\u001b[39m=\u001b[39;49mmode)\n\u001b[0;32m     61\u001b[0m     close_fd \u001b[39m=\u001b[39m \u001b[39mTrue\u001b[39;00m\n\u001b[0;32m     63\u001b[0m \u001b[39mtry\u001b[39;00m:\n",
      "\u001b[1;31mFileNotFoundError\u001b[0m: [Errno 2] No such file or directory: 'ruta\\\\al\\\\archivo_de_audio.wav'"
     ]
    }
   ],
   "source": [
    "from pydub import AudioSegment\n",
    "\n",
    "def recortar_audio(input_path, output_path, start_time, end_time):\n",
    "    # Cargar el archivo de audio\n",
    "    audio = AudioSegment.from_file(input_path)\n",
    "\n",
    "    # Calcular los tiempos en milisegundos\n",
    "    start_time_ms = int(start_time * 1000)\n",
    "    end_time_ms = int(end_time * 1000)\n",
    "\n",
    "    # Recortar el audio\n",
    "    segment = audio[start_time_ms:end_time_ms]\n",
    "\n",
    "    # Guardar el segmento recortado como un nuevo archivo\n",
    "    segment.export(output_path, format=\"wav\")\n",
    "\n",
    "# Ejemplo de uso:\n",
    "input_path = \"ruta\\\\al\\\\archivo_de_audio.wav\"\n",
    "output_path = \"ruta\\\\de_salida\\\\archivo_recortado.wav\"\n",
    "\n",
    "start_time = 2.975056689 # Tiempo de inicio en segundos\n",
    "end_time = 3.172426304    # Tiempo de fin en segundos\n",
    "\n",
    "recortar_audio(input_path, output_path, start_time, end_time)\n"
   ]
  },
  {
   "cell_type": "code",
   "execution_count": null,
   "metadata": {},
   "outputs": [],
   "source": []
  }
 ],
 "metadata": {
  "kernelspec": {
   "display_name": "base",
   "language": "python",
   "name": "python3"
  },
  "language_info": {
   "codemirror_mode": {
    "name": "ipython",
    "version": 3
   },
   "file_extension": ".py",
   "mimetype": "text/x-python",
   "name": "python",
   "nbconvert_exporter": "python",
   "pygments_lexer": "ipython3",
   "version": "3.11.4"
  }
 },
 "nbformat": 4,
 "nbformat_minor": 2
}
